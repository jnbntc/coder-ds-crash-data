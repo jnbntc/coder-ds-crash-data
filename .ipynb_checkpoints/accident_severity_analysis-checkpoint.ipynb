{
 "cells": [
  {
   "cell_type": "markdown",
   "metadata": {
    "id": "lCfyithsgLj_"
   },
   "source": [
    "## Análisis del código y resultados del modelo de predicción de severidad de accidentes\n",
    "\n",
    "Análisis y modelado de un conjunto de datos sobre accidentes de tráfico con el objetivo de predecir la severidad de las lesiones."
   ]
  },
  {
   "cell_type": "markdown",
   "metadata": {
    "id": "U9mDm3qZhLwg"
   },
   "source": [
    "##Carga de datos a un dataframe Pandas."
   ]
  },
  {
   "cell_type": "code",
   "execution_count": 1,
   "metadata": {
    "colab": {
     "base_uri": "https://localhost:8080/"
    },
    "id": "xR9ze28WLgoR",
    "outputId": "3c26f43e-cfad-4af3-d05a-71a0ec2ae711"
   },
   "outputs": [
    {
     "name": "stdout",
     "output_type": "stream",
     "text": [
      "Mounted at /content/drive\n"
     ]
    }
   ],
   "source": [
    "import pandas as pd\n",
    "import numpy as np"
   ]
  },
  {
   "cell_type": "code",
   "execution_count": null,
   "metadata": {
    "colab": {
     "base_uri": "https://localhost:8080/"
    },
    "id": "fb4wsxmvO6po",
    "outputId": "7e9a5c98-f587-4371-e065-bd9d94918b74"
   },
   "outputs": [],
   "source": [
    "df = pd.read_csv('crash_data.csv', low_memory=False)"
   ]
  },
  {
   "cell_type": "code",
   "execution_count": 3,
   "metadata": {
    "colab": {
     "base_uri": "https://localhost:8080/"
    },
    "execution": {
     "iopub.execute_input": "2024-08-06T06:11:52.418253Z",
     "iopub.status.busy": "2024-08-06T06:11:52.417283Z",
     "iopub.status.idle": "2024-08-06T06:11:53.12612Z",
     "shell.execute_reply": "2024-08-06T06:11:53.124867Z",
     "shell.execute_reply.started": "2024-08-06T06:11:52.41822Z"
    },
    "id": "lfiazfJZRsLq",
    "outputId": "f9339d9d-3612-4490-8e5f-5505a25b6ce5"
   },
   "outputs": [
    {
     "name": "stdout",
     "output_type": "stream",
     "text": [
      "<class 'pandas.core.frame.DataFrame'>\n",
      "RangeIndex: 172105 entries, 0 to 172104\n",
      "Data columns (total 43 columns):\n",
      " #   Column                          Non-Null Count   Dtype  \n",
      "---  ------                          --------------   -----  \n",
      " 0   Report Number                   172105 non-null  object \n",
      " 1   Local Case Number               172105 non-null  object \n",
      " 2   Agency Name                     172105 non-null  object \n",
      " 3   ACRS Report Type                172105 non-null  object \n",
      " 4   Crash Date/Time                 172105 non-null  object \n",
      " 5   Route Type                      155132 non-null  object \n",
      " 6   Road Name                       156168 non-null  object \n",
      " 7   Cross-Street Type               155099 non-null  object \n",
      " 8   Cross-Street Name               156154 non-null  object \n",
      " 9   Off-Road Description            15935 non-null   object \n",
      " 10  Municipality                    19126 non-null   object \n",
      " 11  Related Non-Motorist            5463 non-null    object \n",
      " 12  Collision Type                  171520 non-null  object \n",
      " 13  Weather                         158751 non-null  object \n",
      " 14  Surface Condition               151987 non-null  object \n",
      " 15  Light                           170660 non-null  object \n",
      " 16  Traffic Control                 146636 non-null  object \n",
      " 17  Driver Substance Abuse          140781 non-null  object \n",
      " 18  Non-Motorist Substance Abuse    4317 non-null    object \n",
      " 19  Person ID                       172105 non-null  object \n",
      " 20  Driver At Fault                 172105 non-null  object \n",
      " 21  Injury Severity                 172105 non-null  object \n",
      " 22  Circumstance                    31359 non-null   object \n",
      " 23  Driver Distracted By            172105 non-null  object \n",
      " 24  Drivers License State           162155 non-null  object \n",
      " 25  Vehicle ID                      172105 non-null  object \n",
      " 26  Vehicle Damage Extent           171789 non-null  object \n",
      " 27  Vehicle First Impact Location   171949 non-null  object \n",
      " 28  Vehicle Second Impact Location  171849 non-null  object \n",
      " 29  Vehicle Body Type               169456 non-null  object \n",
      " 30  Vehicle Movement                171719 non-null  object \n",
      " 31  Vehicle Continuing Dir          169416 non-null  object \n",
      " 32  Vehicle Going Dir               169416 non-null  object \n",
      " 33  Speed Limit                     172105 non-null  int64  \n",
      " 34  Driverless Vehicle              172105 non-null  object \n",
      " 35  Parked Vehicle                  172105 non-null  object \n",
      " 36  Vehicle Year                    172105 non-null  int64  \n",
      " 37  Vehicle Make                    172081 non-null  object \n",
      " 38  Vehicle Model                   172039 non-null  object \n",
      " 39  Equipment Problems              137964 non-null  object \n",
      " 40  Latitude                        172105 non-null  float64\n",
      " 41  Longitude                       172105 non-null  float64\n",
      " 42  Location                        172105 non-null  object \n",
      "dtypes: float64(2), int64(2), object(39)\n",
      "memory usage: 56.5+ MB\n"
     ]
    }
   ],
   "source": [
    "df.info()"
   ]
  },
  {
   "cell_type": "markdown",
   "metadata": {
    "id": "nxKYcAsogwW3"
   },
   "source": [
    "##Eliminación de columnas que se consideran irrelevantes para el análisis"
   ]
  },
  {
   "cell_type": "code",
   "execution_count": 4,
   "metadata": {
    "execution": {
     "iopub.execute_input": "2024-08-06T06:11:53.815589Z",
     "iopub.status.busy": "2024-08-06T06:11:53.815127Z",
     "iopub.status.idle": "2024-08-06T06:11:53.935039Z",
     "shell.execute_reply": "2024-08-06T06:11:53.933958Z",
     "shell.execute_reply.started": "2024-08-06T06:11:53.815554Z"
    },
    "id": "i4rF477gRsLs"
   },
   "outputs": [],
   "source": [
    "columns_to_remove = [\n",
    "    'Report Number',\n",
    "    'Local Case Number',\n",
    "    'Agency Name',\n",
    "    'Equipment Problems',\n",
    "    'Driverless Vehicle',\n",
    "    'ACRS Report Type',\n",
    "    'Off-Road Description',\n",
    "    'Municipality',\n",
    "    'Related Non-Motorist',\n",
    "    'Non-Motorist Substance Abuse',\n",
    "    'Person ID',\n",
    "    'Parked Vehicle',\n",
    "    'Drivers License State',\n",
    "    'Vehicle ID',\n",
    "    'Latitude',\n",
    "    'Longitude',\n",
    "    'Location'\n",
    "]\n",
    "\n",
    "df = df.drop(columns=columns_to_remove)"
   ]
  },
  {
   "cell_type": "markdown",
   "metadata": {
    "id": "CUA6sqFhg7po"
   },
   "source": [
    "##Análisis de la distribución de clases en la columna **\"Injury Severity\"**, revelando un desequilibrio significativo, donde la clase **\"NO APPARENT INJURY\"** es la más frecuente."
   ]
  },
  {
   "cell_type": "code",
   "execution_count": 5,
   "metadata": {
    "colab": {
     "base_uri": "https://localhost:8080/"
    },
    "id": "eL3Pv1vtSPOS",
    "outputId": "d3e0b7d0-78fa-4664-949f-7964d47b86c6"
   },
   "outputs": [
    {
     "name": "stdout",
     "output_type": "stream",
     "text": [
      "Injury Severity\n",
      "NO APPARENT INJURY          141185\n",
      "POSSIBLE INJURY              17482\n",
      "SUSPECTED MINOR INJURY       11870\n",
      "SUSPECTED SERIOUS INJURY      1415\n",
      "FATAL INJURY                   153\n",
      "Name: count, dtype: int64\n"
     ]
    }
   ],
   "source": [
    "# Contar la frecuencia de cada clase en la columna 'Injury Severity'\n",
    "class_counts = df['Injury Severity'].value_counts()\n",
    "\n",
    "# Mostrar la frecuencia de cada clase en forma de tabla\n",
    "print(class_counts)\n"
   ]
  },
  {
   "cell_type": "code",
   "execution_count": 6,
   "metadata": {
    "colab": {
     "base_uri": "https://localhost:8080/"
    },
    "execution": {
     "iopub.execute_input": "2024-08-06T06:11:53.937111Z",
     "iopub.status.busy": "2024-08-06T06:11:53.936703Z",
     "iopub.status.idle": "2024-08-06T06:11:54.368414Z",
     "shell.execute_reply": "2024-08-06T06:11:54.367339Z",
     "shell.execute_reply.started": "2024-08-06T06:11:53.937071Z"
    },
    "id": "yCS_FbtWRsLt",
    "outputId": "da9d62c5-f8f5-4159-9184-053d998a4c1e"
   },
   "outputs": [
    {
     "name": "stdout",
     "output_type": "stream",
     "text": [
      "<class 'pandas.core.frame.DataFrame'>\n",
      "RangeIndex: 172105 entries, 0 to 172104\n",
      "Data columns (total 26 columns):\n",
      " #   Column                          Non-Null Count   Dtype \n",
      "---  ------                          --------------   ----- \n",
      " 0   Crash Date/Time                 172105 non-null  object\n",
      " 1   Route Type                      155132 non-null  object\n",
      " 2   Road Name                       156168 non-null  object\n",
      " 3   Cross-Street Type               155099 non-null  object\n",
      " 4   Cross-Street Name               156154 non-null  object\n",
      " 5   Collision Type                  171520 non-null  object\n",
      " 6   Weather                         158751 non-null  object\n",
      " 7   Surface Condition               151987 non-null  object\n",
      " 8   Light                           170660 non-null  object\n",
      " 9   Traffic Control                 146636 non-null  object\n",
      " 10  Driver Substance Abuse          140781 non-null  object\n",
      " 11  Driver At Fault                 172105 non-null  object\n",
      " 12  Injury Severity                 172105 non-null  object\n",
      " 13  Circumstance                    31359 non-null   object\n",
      " 14  Driver Distracted By            172105 non-null  object\n",
      " 15  Vehicle Damage Extent           171789 non-null  object\n",
      " 16  Vehicle First Impact Location   171949 non-null  object\n",
      " 17  Vehicle Second Impact Location  171849 non-null  object\n",
      " 18  Vehicle Body Type               169456 non-null  object\n",
      " 19  Vehicle Movement                171719 non-null  object\n",
      " 20  Vehicle Continuing Dir          169416 non-null  object\n",
      " 21  Vehicle Going Dir               169416 non-null  object\n",
      " 22  Speed Limit                     172105 non-null  int64 \n",
      " 23  Vehicle Year                    172105 non-null  int64 \n",
      " 24  Vehicle Make                    172081 non-null  object\n",
      " 25  Vehicle Model                   172039 non-null  object\n",
      "dtypes: int64(2), object(24)\n",
      "memory usage: 34.1+ MB\n"
     ]
    }
   ],
   "source": [
    "df.info()"
   ]
  },
  {
   "cell_type": "code",
   "execution_count": 8,
   "metadata": {
    "colab": {
     "base_uri": "https://localhost:8080/"
    },
    "execution": {
     "iopub.execute_input": "2024-08-06T06:11:54.404917Z",
     "iopub.status.busy": "2024-08-06T06:11:54.404561Z",
     "iopub.status.idle": "2024-08-06T06:11:54.429495Z",
     "shell.execute_reply": "2024-08-06T06:11:54.428528Z",
     "shell.execute_reply.started": "2024-08-06T06:11:54.404886Z"
    },
    "id": "75X13CdvRsLw",
    "outputId": "10f6bc2a-ac84-4f7b-f38b-c3d9df9dcc64"
   },
   "outputs": [
    {
     "data": {
      "text/plain": [
       "array(['NO APPARENT INJURY', 'SUSPECTED MINOR INJURY', 'POSSIBLE INJURY',\n",
       "       'FATAL INJURY', 'SUSPECTED SERIOUS INJURY'], dtype=object)"
      ]
     },
     "execution_count": 8,
     "metadata": {},
     "output_type": "execute_result"
    }
   ],
   "source": [
    "df['Injury Severity'].unique()"
   ]
  },
  {
   "cell_type": "markdown",
   "metadata": {
    "id": "ZwkoZoyvhlI0"
   },
   "source": [
    "##Imputación de los valores faltantes en las columnas utilizando la moda"
   ]
  },
  {
   "cell_type": "code",
   "execution_count": 10,
   "metadata": {
    "execution": {
     "iopub.execute_input": "2024-08-06T06:11:54.457255Z",
     "iopub.status.busy": "2024-08-06T06:11:54.456861Z",
     "iopub.status.idle": "2024-08-06T06:11:55.88661Z",
     "shell.execute_reply": "2024-08-06T06:11:55.885419Z",
     "shell.execute_reply.started": "2024-08-06T06:11:54.457226Z"
    },
    "id": "auy8yz2FRsLx"
   },
   "outputs": [],
   "source": [
    "for column in df.columns:\n",
    "    if df[column].isnull().any():\n",
    "        mode_value = df[column].mode()[0]\n",
    "        df[column].fillna(mode_value, inplace=True)"
   ]
  },
  {
   "cell_type": "code",
   "execution_count": 11,
   "metadata": {
    "colab": {
     "base_uri": "https://localhost:8080/"
    },
    "execution": {
     "iopub.execute_input": "2024-08-06T06:11:55.888381Z",
     "iopub.status.busy": "2024-08-06T06:11:55.888039Z",
     "iopub.status.idle": "2024-08-06T06:11:56.363744Z",
     "shell.execute_reply": "2024-08-06T06:11:56.362608Z",
     "shell.execute_reply.started": "2024-08-06T06:11:55.888351Z"
    },
    "id": "9u-FLAG-RsLx",
    "outputId": "843c1843-b9b6-44db-ee84-b0859e26de19"
   },
   "outputs": [
    {
     "name": "stdout",
     "output_type": "stream",
     "text": [
      "<class 'pandas.core.frame.DataFrame'>\n",
      "RangeIndex: 172105 entries, 0 to 172104\n",
      "Data columns (total 26 columns):\n",
      " #   Column                          Non-Null Count   Dtype \n",
      "---  ------                          --------------   ----- \n",
      " 0   Crash Date/Time                 172105 non-null  object\n",
      " 1   Route Type                      172105 non-null  object\n",
      " 2   Road Name                       172105 non-null  object\n",
      " 3   Cross-Street Type               172105 non-null  object\n",
      " 4   Cross-Street Name               172105 non-null  object\n",
      " 5   Collision Type                  172105 non-null  object\n",
      " 6   Weather                         172105 non-null  object\n",
      " 7   Surface Condition               172105 non-null  object\n",
      " 8   Light                           172105 non-null  object\n",
      " 9   Traffic Control                 172105 non-null  object\n",
      " 10  Driver Substance Abuse          172105 non-null  object\n",
      " 11  Driver At Fault                 172105 non-null  object\n",
      " 12  Injury Severity                 172105 non-null  object\n",
      " 13  Circumstance                    172105 non-null  object\n",
      " 14  Driver Distracted By            172105 non-null  object\n",
      " 15  Vehicle Damage Extent           172105 non-null  object\n",
      " 16  Vehicle First Impact Location   172105 non-null  object\n",
      " 17  Vehicle Second Impact Location  172105 non-null  object\n",
      " 18  Vehicle Body Type               172105 non-null  object\n",
      " 19  Vehicle Movement                172105 non-null  object\n",
      " 20  Vehicle Continuing Dir          172105 non-null  object\n",
      " 21  Vehicle Going Dir               172105 non-null  object\n",
      " 22  Speed Limit                     172105 non-null  int64 \n",
      " 23  Vehicle Year                    172105 non-null  int64 \n",
      " 24  Vehicle Make                    172105 non-null  object\n",
      " 25  Vehicle Model                   172105 non-null  object\n",
      "dtypes: int64(2), object(24)\n",
      "memory usage: 34.1+ MB\n"
     ]
    }
   ],
   "source": [
    "df.info()"
   ]
  },
  {
   "cell_type": "code",
   "execution_count": 12,
   "metadata": {
    "colab": {
     "base_uri": "https://localhost:8080/",
     "height": 900
    },
    "execution": {
     "iopub.execute_input": "2024-08-06T06:11:56.365636Z",
     "iopub.status.busy": "2024-08-06T06:11:56.365206Z",
     "iopub.status.idle": "2024-08-06T06:11:56.815516Z",
     "shell.execute_reply": "2024-08-06T06:11:56.814381Z",
     "shell.execute_reply.started": "2024-08-06T06:11:56.365597Z"
    },
    "id": "bgN2c51XRsLy",
    "outputId": "0e10cc4e-9350-4476-ef62-874f90fe5efc"
   },
   "outputs": [
    {
     "data": {
      "text/html": [
       "<div>\n",
       "<style scoped>\n",
       "    .dataframe tbody tr th:only-of-type {\n",
       "        vertical-align: middle;\n",
       "    }\n",
       "\n",
       "    .dataframe tbody tr th {\n",
       "        vertical-align: top;\n",
       "    }\n",
       "\n",
       "    .dataframe thead th {\n",
       "        text-align: right;\n",
       "    }\n",
       "</style>\n",
       "<table border=\"1\" class=\"dataframe\">\n",
       "  <thead>\n",
       "    <tr style=\"text-align: right;\">\n",
       "      <th></th>\n",
       "      <th>0</th>\n",
       "    </tr>\n",
       "  </thead>\n",
       "  <tbody>\n",
       "    <tr>\n",
       "      <th>Crash Date/Time</th>\n",
       "      <td>0</td>\n",
       "    </tr>\n",
       "    <tr>\n",
       "      <th>Route Type</th>\n",
       "      <td>0</td>\n",
       "    </tr>\n",
       "    <tr>\n",
       "      <th>Road Name</th>\n",
       "      <td>0</td>\n",
       "    </tr>\n",
       "    <tr>\n",
       "      <th>Cross-Street Type</th>\n",
       "      <td>0</td>\n",
       "    </tr>\n",
       "    <tr>\n",
       "      <th>Cross-Street Name</th>\n",
       "      <td>0</td>\n",
       "    </tr>\n",
       "    <tr>\n",
       "      <th>Collision Type</th>\n",
       "      <td>0</td>\n",
       "    </tr>\n",
       "    <tr>\n",
       "      <th>Weather</th>\n",
       "      <td>0</td>\n",
       "    </tr>\n",
       "    <tr>\n",
       "      <th>Surface Condition</th>\n",
       "      <td>0</td>\n",
       "    </tr>\n",
       "    <tr>\n",
       "      <th>Light</th>\n",
       "      <td>0</td>\n",
       "    </tr>\n",
       "    <tr>\n",
       "      <th>Traffic Control</th>\n",
       "      <td>0</td>\n",
       "    </tr>\n",
       "    <tr>\n",
       "      <th>Driver Substance Abuse</th>\n",
       "      <td>0</td>\n",
       "    </tr>\n",
       "    <tr>\n",
       "      <th>Driver At Fault</th>\n",
       "      <td>0</td>\n",
       "    </tr>\n",
       "    <tr>\n",
       "      <th>Injury Severity</th>\n",
       "      <td>0</td>\n",
       "    </tr>\n",
       "    <tr>\n",
       "      <th>Circumstance</th>\n",
       "      <td>0</td>\n",
       "    </tr>\n",
       "    <tr>\n",
       "      <th>Driver Distracted By</th>\n",
       "      <td>0</td>\n",
       "    </tr>\n",
       "    <tr>\n",
       "      <th>Vehicle Damage Extent</th>\n",
       "      <td>0</td>\n",
       "    </tr>\n",
       "    <tr>\n",
       "      <th>Vehicle First Impact Location</th>\n",
       "      <td>0</td>\n",
       "    </tr>\n",
       "    <tr>\n",
       "      <th>Vehicle Second Impact Location</th>\n",
       "      <td>0</td>\n",
       "    </tr>\n",
       "    <tr>\n",
       "      <th>Vehicle Body Type</th>\n",
       "      <td>0</td>\n",
       "    </tr>\n",
       "    <tr>\n",
       "      <th>Vehicle Movement</th>\n",
       "      <td>0</td>\n",
       "    </tr>\n",
       "    <tr>\n",
       "      <th>Vehicle Continuing Dir</th>\n",
       "      <td>0</td>\n",
       "    </tr>\n",
       "    <tr>\n",
       "      <th>Vehicle Going Dir</th>\n",
       "      <td>0</td>\n",
       "    </tr>\n",
       "    <tr>\n",
       "      <th>Speed Limit</th>\n",
       "      <td>0</td>\n",
       "    </tr>\n",
       "    <tr>\n",
       "      <th>Vehicle Year</th>\n",
       "      <td>0</td>\n",
       "    </tr>\n",
       "    <tr>\n",
       "      <th>Vehicle Make</th>\n",
       "      <td>0</td>\n",
       "    </tr>\n",
       "    <tr>\n",
       "      <th>Vehicle Model</th>\n",
       "      <td>0</td>\n",
       "    </tr>\n",
       "  </tbody>\n",
       "</table>\n",
       "</div><br><label><b>dtype:</b> int64</label>"
      ],
      "text/plain": [
       "Crash Date/Time                   0\n",
       "Route Type                        0\n",
       "Road Name                         0\n",
       "Cross-Street Type                 0\n",
       "Cross-Street Name                 0\n",
       "Collision Type                    0\n",
       "Weather                           0\n",
       "Surface Condition                 0\n",
       "Light                             0\n",
       "Traffic Control                   0\n",
       "Driver Substance Abuse            0\n",
       "Driver At Fault                   0\n",
       "Injury Severity                   0\n",
       "Circumstance                      0\n",
       "Driver Distracted By              0\n",
       "Vehicle Damage Extent             0\n",
       "Vehicle First Impact Location     0\n",
       "Vehicle Second Impact Location    0\n",
       "Vehicle Body Type                 0\n",
       "Vehicle Movement                  0\n",
       "Vehicle Continuing Dir            0\n",
       "Vehicle Going Dir                 0\n",
       "Speed Limit                       0\n",
       "Vehicle Year                      0\n",
       "Vehicle Make                      0\n",
       "Vehicle Model                     0\n",
       "dtype: int64"
      ]
     },
     "execution_count": 12,
     "metadata": {},
     "output_type": "execute_result"
    }
   ],
   "source": [
    "df.isnull().sum()"
   ]
  },
  {
   "cell_type": "code",
   "execution_count": 13,
   "metadata": {
    "colab": {
     "base_uri": "https://localhost:8080/",
     "height": 680
    },
    "execution": {
     "iopub.execute_input": "2024-08-06T06:11:56.817291Z",
     "iopub.status.busy": "2024-08-06T06:11:56.816967Z",
     "iopub.status.idle": "2024-08-06T06:11:56.859246Z",
     "shell.execute_reply": "2024-08-06T06:11:56.858017Z",
     "shell.execute_reply.started": "2024-08-06T06:11:56.817263Z"
    },
    "id": "Fn0HZH15RsLy",
    "outputId": "d1d28a2d-1d0f-4ed7-c3b6-0938999313f7"
   },
   "outputs": [
    {
     "data": {
      "text/html": [
       "<div>\n",
       "<style scoped>\n",
       "    .dataframe tbody tr th:only-of-type {\n",
       "        vertical-align: middle;\n",
       "    }\n",
       "\n",
       "    .dataframe tbody tr th {\n",
       "        vertical-align: top;\n",
       "    }\n",
       "\n",
       "    .dataframe thead th {\n",
       "        text-align: right;\n",
       "    }\n",
       "</style>\n",
       "<table border=\"1\" class=\"dataframe\">\n",
       "  <thead>\n",
       "    <tr style=\"text-align: right;\">\n",
       "      <th></th>\n",
       "      <th>count</th>\n",
       "    </tr>\n",
       "    <tr>\n",
       "      <th>Collision Type</th>\n",
       "      <th></th>\n",
       "    </tr>\n",
       "  </thead>\n",
       "  <tbody>\n",
       "    <tr>\n",
       "      <th>SAME DIR REAR END</th>\n",
       "      <td>56340</td>\n",
       "    </tr>\n",
       "    <tr>\n",
       "      <th>STRAIGHT MOVEMENT ANGLE</th>\n",
       "      <td>30340</td>\n",
       "    </tr>\n",
       "    <tr>\n",
       "      <th>OTHER</th>\n",
       "      <td>19030</td>\n",
       "    </tr>\n",
       "    <tr>\n",
       "      <th>SAME DIRECTION SIDESWIPE</th>\n",
       "      <td>16226</td>\n",
       "    </tr>\n",
       "    <tr>\n",
       "      <th>SINGLE VEHICLE</th>\n",
       "      <td>15869</td>\n",
       "    </tr>\n",
       "    <tr>\n",
       "      <th>HEAD ON LEFT TURN</th>\n",
       "      <td>12926</td>\n",
       "    </tr>\n",
       "    <tr>\n",
       "      <th>SAME DIRECTION RIGHT TURN</th>\n",
       "      <td>3832</td>\n",
       "    </tr>\n",
       "    <tr>\n",
       "      <th>HEAD ON</th>\n",
       "      <td>3786</td>\n",
       "    </tr>\n",
       "    <tr>\n",
       "      <th>SAME DIRECTION LEFT TURN</th>\n",
       "      <td>3715</td>\n",
       "    </tr>\n",
       "    <tr>\n",
       "      <th>OPPOSITE DIRECTION SIDESWIPE</th>\n",
       "      <td>2883</td>\n",
       "    </tr>\n",
       "    <tr>\n",
       "      <th>ANGLE MEETS LEFT TURN</th>\n",
       "      <td>2033</td>\n",
       "    </tr>\n",
       "    <tr>\n",
       "      <th>ANGLE MEETS RIGHT TURN</th>\n",
       "      <td>1204</td>\n",
       "    </tr>\n",
       "    <tr>\n",
       "      <th>SAME DIR REND LEFT TURN</th>\n",
       "      <td>743</td>\n",
       "    </tr>\n",
       "    <tr>\n",
       "      <th>SAME DIR REND RIGHT TURN</th>\n",
       "      <td>720</td>\n",
       "    </tr>\n",
       "    <tr>\n",
       "      <th>SAME DIR BOTH LEFT TURN</th>\n",
       "      <td>719</td>\n",
       "    </tr>\n",
       "    <tr>\n",
       "      <th>UNKNOWN</th>\n",
       "      <td>717</td>\n",
       "    </tr>\n",
       "    <tr>\n",
       "      <th>ANGLE MEETS LEFT HEAD ON</th>\n",
       "      <td>700</td>\n",
       "    </tr>\n",
       "    <tr>\n",
       "      <th>OPPOSITE DIR BOTH LEFT TURN</th>\n",
       "      <td>322</td>\n",
       "    </tr>\n",
       "  </tbody>\n",
       "</table>\n",
       "</div><br><label><b>dtype:</b> int64</label>"
      ],
      "text/plain": [
       "Collision Type\n",
       "SAME DIR REAR END               56340\n",
       "STRAIGHT MOVEMENT ANGLE         30340\n",
       "OTHER                           19030\n",
       "SAME DIRECTION SIDESWIPE        16226\n",
       "SINGLE VEHICLE                  15869\n",
       "HEAD ON LEFT TURN               12926\n",
       "SAME DIRECTION RIGHT TURN        3832\n",
       "HEAD ON                          3786\n",
       "SAME DIRECTION LEFT TURN         3715\n",
       "OPPOSITE DIRECTION SIDESWIPE     2883\n",
       "ANGLE MEETS LEFT TURN            2033\n",
       "ANGLE MEETS RIGHT TURN           1204\n",
       "SAME DIR REND LEFT TURN           743\n",
       "SAME DIR REND RIGHT TURN          720\n",
       "SAME DIR BOTH LEFT TURN           719\n",
       "UNKNOWN                           717\n",
       "ANGLE MEETS LEFT HEAD ON          700\n",
       "OPPOSITE DIR BOTH LEFT TURN       322\n",
       "Name: count, dtype: int64"
      ]
     },
     "execution_count": 13,
     "metadata": {},
     "output_type": "execute_result"
    }
   ],
   "source": [
    "df['Collision Type'].value_counts()"
   ]
  },
  {
   "cell_type": "markdown",
   "metadata": {
    "id": "FED6IVbjiIwo"
   },
   "source": [
    "##Codificación de las variables categóricas utilizando LabelEncoder para convertirlas en numéricas"
   ]
  },
  {
   "cell_type": "code",
   "execution_count": 14,
   "metadata": {
    "execution": {
     "iopub.execute_input": "2024-08-06T06:13:33.542346Z",
     "iopub.status.busy": "2024-08-06T06:13:33.541899Z",
     "iopub.status.idle": "2024-08-06T06:13:35.778345Z",
     "shell.execute_reply": "2024-08-06T06:13:35.777197Z",
     "shell.execute_reply.started": "2024-08-06T06:13:33.542279Z"
    },
    "id": "YFS_HIOXRsLz"
   },
   "outputs": [],
   "source": [
    "from sklearn.preprocessing import LabelEncoder\n",
    "le = LabelEncoder()\n",
    "\n",
    "for column in df.select_dtypes(include=['object']).columns:\n",
    "    df[column] = le.fit_transform(df[column].astype(str))"
   ]
  },
  {
   "cell_type": "markdown",
   "metadata": {
    "id": "dbsezCociM8L"
   },
   "source": [
    "##División del conjunto de datos en conjuntos de entrenamiento (80%) y prueba (20%) utilizando train_test_split."
   ]
  },
  {
   "cell_type": "code",
   "execution_count": 15,
   "metadata": {
    "execution": {
     "iopub.execute_input": "2024-08-06T06:13:35.823025Z",
     "iopub.status.busy": "2024-08-06T06:13:35.822584Z",
     "iopub.status.idle": "2024-08-06T06:13:35.858458Z",
     "shell.execute_reply": "2024-08-06T06:13:35.85756Z",
     "shell.execute_reply.started": "2024-08-06T06:13:35.822983Z"
    },
    "id": "eWH16lq-RsL0"
   },
   "outputs": [],
   "source": [
    "X = df.drop(columns=['Injury Severity'])\n",
    "y = df['Injury Severity']"
   ]
  },
  {
   "cell_type": "markdown",
   "metadata": {
    "id": "7OLSVLQTkQO7"
   },
   "source": [
    "##Entrenamiento y evaluación de modelos:\n",
    "\n",
    "- Se entrenan y evalúan 5 modelos de clasificación diferentes:\n",
    "    - **XGBoost:** Un algoritmo de boosting de gradiente que suele ofrecer un buen rendimiento.\n",
    "    - **Extra Trees Classifier:** Un algoritmo de bosque aleatorio que utiliza árboles de decisión extremadamente aleatorizados.\n",
    "    - **Decision Tree:** Un algoritmo de árbol de decisión simple.\n",
    "    - **Random Forest:** Un algoritmo de bosque aleatorio que utiliza árboles de decisión.\n",
    "    - **SVM (Support Vector Machine):** Un algoritmo que busca un hiperplano que mejor separe las clases.\n",
    "    - **LightGBM:** Un algoritmo de boosting de gradiente que es conocido por su velocidad y eficiencia.\n",
    "    - **CatBoost:** Un algoritmo de boosting de gradiente que maneja bien las variables categóricas.\n",
    "    - **HistGradientBoostingClassifier:** Un algoritmo de boosting de gradiente que utiliza histogramas para mejorar la eficiencia.\n",
    "- Para cada modelo, se calculan las siguientes métricas de evaluación:\n",
    "    - **Matriz de confusión:** Muestra el número de verdaderos positivos, verdaderos negativos, falsos positivos y falsos negativos para cada clase.\n",
    "    - **Accuracy:** La proporción de predicciones correctas sobre el total de predicciones.\n",
    "    - **Precision:** La proporción de verdaderos positivos sobre el total de positivos predichos.\n",
    "    - **Recall:** La proporción de verdaderos positivos sobre el total de positivos reales.\n",
    "    - **F1 Score:** Una medida que combina precision y recall.\n",
    "    - **Reporte de Clasificación:** Muestra precision, recall, f1-score y soporte para cada clase."
   ]
  },
  {
   "cell_type": "code",
   "execution_count": 16,
   "metadata": {
    "execution": {
     "iopub.execute_input": "2024-08-06T06:13:35.860291Z",
     "iopub.status.busy": "2024-08-06T06:13:35.859882Z",
     "iopub.status.idle": "2024-08-06T06:13:36.074989Z",
     "shell.execute_reply": "2024-08-06T06:13:36.073938Z",
     "shell.execute_reply.started": "2024-08-06T06:13:35.860252Z"
    },
    "id": "1WRvNT71RsL1"
   },
   "outputs": [],
   "source": [
    "from sklearn.model_selection import train_test_split\n",
    "X_train, X_test, y_train, y_test = train_test_split(X, y, test_size=0.2, random_state=42)"
   ]
  },
  {
   "cell_type": "code",
   "execution_count": 17,
   "metadata": {
    "colab": {
     "base_uri": "https://localhost:8080/"
    },
    "execution": {
     "iopub.execute_input": "2024-08-06T06:13:36.076884Z",
     "iopub.status.busy": "2024-08-06T06:13:36.076447Z",
     "iopub.status.idle": "2024-08-06T06:13:36.528952Z",
     "shell.execute_reply": "2024-08-06T06:13:36.52798Z",
     "shell.execute_reply.started": "2024-08-06T06:13:36.076842Z"
    },
    "id": "PsWjtneFRsL1",
    "outputId": "7e70e0d4-3931-47c2-8925-5dd00b52f561"
   },
   "outputs": [
    {
     "name": "stdout",
     "output_type": "stream",
     "text": [
      "Requirement already satisfied: XGBoost in /usr/local/lib/python3.10/dist-packages (2.1.1)\n",
      "Requirement already satisfied: numpy in /usr/local/lib/python3.10/dist-packages (from XGBoost) (1.26.4)\n",
      "Requirement already satisfied: nvidia-nccl-cu12 in /usr/local/lib/python3.10/dist-packages (from XGBoost) (2.23.4)\n",
      "Requirement already satisfied: scipy in /usr/local/lib/python3.10/dist-packages (from XGBoost) (1.13.1)\n"
     ]
    }
   ],
   "source": [
    "from sklearn.metrics import accuracy_score, precision_score, recall_score, f1_score, classification_report, confusion_matrix\n",
    "#!pip install XGBoost\n",
    "import xgboost as xgb\n",
    "from sklearn.ensemble import ExtraTreesClassifier\n",
    "from sklearn.svm import SVC\n",
    "from sklearn.linear_model import LogisticRegression\n",
    "from sklearn.tree import DecisionTreeClassifier\n",
    "from sklearn.ensemble import RandomForestClassifier"
   ]
  },
  {
   "cell_type": "markdown",
   "metadata": {
    "id": "E4ZVqFLFRsL2"
   },
   "source": [
    "<strong>XGBoost</strong>"
   ]
  },
  {
   "cell_type": "code",
   "execution_count": 18,
   "metadata": {
    "colab": {
     "base_uri": "https://localhost:8080/"
    },
    "execution": {
     "iopub.execute_input": "2024-08-06T06:13:36.530593Z",
     "iopub.status.busy": "2024-08-06T06:13:36.530195Z",
     "iopub.status.idle": "2024-08-06T06:14:02.505501Z",
     "shell.execute_reply": "2024-08-06T06:14:02.504304Z",
     "shell.execute_reply.started": "2024-08-06T06:13:36.530562Z"
    },
    "id": "iM10DQuARsL3",
    "outputId": "b6b62a6a-0543-4819-9ae7-6f11876d02b5"
   },
   "outputs": [
    {
     "name": "stdout",
     "output_type": "stream",
     "text": [
      "Confusion Matrix (XGBoost Classifier):\n",
      "[[    4    26     1     1     2]\n",
      " [    1 28185    23    37     5]\n",
      " [    1  3438    26    40    13]\n",
      " [    1  2280    29    37     6]\n",
      " [    3   227    10    18     7]]\n",
      "\n",
      "Accuracy (XGBoost Classifier): 0.8209813776473665\n",
      "Precision (XGBoost Classifier): 0.7281724028596237\n",
      "Recall (XGBoost Classifier): 0.8209813776473665\n",
      "F1 Score (XGBoost Classifier): 0.7454025834117611\n",
      "\n",
      "Classification Report (XGBoost Classifier):\n",
      "              precision    recall  f1-score   support\n",
      "\n",
      "           0       0.40      0.12      0.18        34\n",
      "           1       0.83      1.00      0.90     28251\n",
      "           2       0.29      0.01      0.01      3518\n",
      "           3       0.28      0.02      0.03      2353\n",
      "           4       0.21      0.03      0.05       265\n",
      "\n",
      "    accuracy                           0.82     34421\n",
      "   macro avg       0.40      0.23      0.24     34421\n",
      "weighted avg       0.73      0.82      0.75     34421\n",
      "\n"
     ]
    }
   ],
   "source": [
    "model = xgb.XGBClassifier(colsample_bytree = 0.8, learning_rate = 0.1, max_depth = 5, n_estimators = 200, subsample = 1.0)\n",
    "model.fit(X_train, y_train)\n",
    "\n",
    "# Predict on the test set\n",
    "y_pred_xgb = model.predict(X_test)\n",
    "\n",
    "# Confusion Matrix\n",
    "conf_matrix_xgb = confusion_matrix(y_test, y_pred_xgb)\n",
    "print(\"Confusion Matrix (XGBoost Classifier):\")\n",
    "print(conf_matrix_xgb)\n",
    "\n",
    "# Accuracy\n",
    "accuracy_xgb = accuracy_score(y_test, y_pred_xgb)\n",
    "print(\"\\nAccuracy (XGBoost Classifier):\", accuracy_xgb)\n",
    "\n",
    "# Precision\n",
    "precision_xgb = precision_score(y_test, y_pred_xgb, average='weighted')\n",
    "print(\"Precision (XGBoost Classifier):\", precision_xgb)\n",
    "\n",
    "# Recall\n",
    "recall_xgb = recall_score(y_test, y_pred_xgb, average='weighted')\n",
    "print(\"Recall (XGBoost Classifier):\", recall_xgb)\n",
    "\n",
    "# F1 Score\n",
    "f1_xgb = f1_score(y_test, y_pred_xgb, average='weighted')\n",
    "print(\"F1 Score (XGBoost Classifier):\", f1_xgb)\n",
    "\n",
    "# Print classification report\n",
    "print(\"\\nClassification Report (XGBoost Classifier):\")\n",
    "print(classification_report(y_test, y_pred_xgb))\n"
   ]
  },
  {
   "cell_type": "markdown",
   "metadata": {
    "id": "EYooH8ccRsL4"
   },
   "source": [
    "<span style=\"font-size: larger;\"><strong>Extra Tree Classifier</strong></span>"
   ]
  },
  {
   "cell_type": "code",
   "execution_count": 19,
   "metadata": {
    "colab": {
     "base_uri": "https://localhost:8080/"
    },
    "execution": {
     "iopub.execute_input": "2024-08-06T06:14:02.507441Z",
     "iopub.status.busy": "2024-08-06T06:14:02.506987Z",
     "iopub.status.idle": "2024-08-06T06:14:50.556221Z",
     "shell.execute_reply": "2024-08-06T06:14:50.554926Z",
     "shell.execute_reply.started": "2024-08-06T06:14:02.5074Z"
    },
    "id": "J_bj-8kgRsL4",
    "outputId": "41ed4716-1b18-4676-ca59-f129a80dc19a"
   },
   "outputs": [
    {
     "name": "stdout",
     "output_type": "stream",
     "text": [
      "Confusion Matrix (Extra Trees Classifier):\n",
      "[[    3    29     0     1     1]\n",
      " [    0 28134    79    36     2]\n",
      " [    0  3440    47    29     2]\n",
      " [    0  2298    34    20     1]\n",
      " [    0   250    10     4     1]]\n",
      "\n",
      "Accuracy (Extra Trees Classifier): 0.8194125679091252\n",
      "Precision (Extra Trees Classifier): 0.7216780275173488\n",
      "Recall (Extra Trees Classifier): 0.8194125679091252\n",
      "F1 Score (Extra Trees Classifier): 0.7440119392500675\n",
      "\n",
      "Classification Report (Extra Trees Classifier):\n",
      "              precision    recall  f1-score   support\n",
      "\n",
      "           0       1.00      0.09      0.16        34\n",
      "           1       0.82      1.00      0.90     28251\n",
      "           2       0.28      0.01      0.03      3518\n",
      "           3       0.22      0.01      0.02      2353\n",
      "           4       0.14      0.00      0.01       265\n",
      "\n",
      "    accuracy                           0.82     34421\n",
      "   macro avg       0.49      0.22      0.22     34421\n",
      "weighted avg       0.72      0.82      0.74     34421\n",
      "\n"
     ]
    }
   ],
   "source": [
    "extra_trees_model = ExtraTreesClassifier()\n",
    "extra_trees_model.fit(X_train, y_train)\n",
    "\n",
    "y_pred_extra_trees = extra_trees_model.predict(X_test)\n",
    "\n",
    "# Confusion Matrix\n",
    "conf_matrix_extra_trees = confusion_matrix(y_test, y_pred_extra_trees)\n",
    "print(\"Confusion Matrix (Extra Trees Classifier):\")\n",
    "print(conf_matrix_extra_trees)\n",
    "\n",
    "# Accuracy\n",
    "accuracy_extra_trees = accuracy_score(y_test, y_pred_extra_trees)\n",
    "print(\"\\nAccuracy (Extra Trees Classifier):\", accuracy_extra_trees)\n",
    "\n",
    "# Precision\n",
    "precision_extra_trees = precision_score(y_test, y_pred_extra_trees, average='weighted')\n",
    "print(\"Precision (Extra Trees Classifier):\", precision_extra_trees)\n",
    "\n",
    "# Recall\n",
    "recall_extra_trees = recall_score(y_test, y_pred_extra_trees, average='weighted')\n",
    "print(\"Recall (Extra Trees Classifier):\", recall_extra_trees)\n",
    "\n",
    "# F1 Score\n",
    "f1_extra_trees = f1_score(y_test, y_pred_extra_trees, average='weighted')\n",
    "print(\"F1 Score (Extra Trees Classifier):\", f1_extra_trees)\n",
    "\n",
    "# Print classification report\n",
    "print(\"\\nClassification Report (Extra Trees Classifier):\")\n",
    "print(classification_report(y_test, y_pred_extra_trees))"
   ]
  },
  {
   "cell_type": "markdown",
   "metadata": {
    "id": "Vab-0OkERsL5"
   },
   "source": [
    "<span style=\"font-size: larger;\"><strong>Decision Tree</strong></span>"
   ]
  },
  {
   "cell_type": "code",
   "execution_count": 20,
   "metadata": {
    "colab": {
     "base_uri": "https://localhost:8080/"
    },
    "execution": {
     "iopub.execute_input": "2024-08-06T06:14:50.557882Z",
     "iopub.status.busy": "2024-08-06T06:14:50.557566Z",
     "iopub.status.idle": "2024-08-06T06:14:54.175594Z",
     "shell.execute_reply": "2024-08-06T06:14:54.174407Z",
     "shell.execute_reply.started": "2024-08-06T06:14:50.557853Z"
    },
    "id": "1BwzmMRLRsL5",
    "outputId": "aef02baa-c19a-4122-bb11-f2898f686ba7"
   },
   "outputs": [
    {
     "name": "stdout",
     "output_type": "stream",
     "text": [
      "Confusion Matrix (Decision Tree Classifier):\n",
      "[[    2    11     5    11     5]\n",
      " [    9 23225  2849  1984   184]\n",
      " [    3  2476   580   402    57]\n",
      " [    2  1591   382   324    54]\n",
      " [    2   152    45    52    14]]\n",
      "\n",
      "Accuracy (Decision Tree Classifier): 0.7014613172191395\n",
      "Precision (Decision Tree Classifier): 0.7180893754007781\n",
      "Recall (Decision Tree Classifier): 0.7014613172191395\n",
      "F1 Score (Decision Tree Classifier): 0.7095317502041157\n",
      "\n",
      "Classification Report (Decision Tree Classifier):\n",
      "              precision    recall  f1-score   support\n",
      "\n",
      "           0       0.11      0.06      0.08        34\n",
      "           1       0.85      0.82      0.83     28251\n",
      "           2       0.15      0.16      0.16      3518\n",
      "           3       0.12      0.14      0.13      2353\n",
      "           4       0.04      0.05      0.05       265\n",
      "\n",
      "    accuracy                           0.70     34421\n",
      "   macro avg       0.25      0.25      0.25     34421\n",
      "weighted avg       0.72      0.70      0.71     34421\n",
      "\n"
     ]
    }
   ],
   "source": [
    "decision_tree_model = DecisionTreeClassifier()\n",
    "decision_tree_model.fit(X_train, y_train)\n",
    "\n",
    "y_pred_decision_tree = decision_tree_model.predict(X_test)\n",
    "\n",
    "# Confusion Matrix\n",
    "conf_matrix_decision_tree = confusion_matrix(y_test, y_pred_decision_tree)\n",
    "print(\"Confusion Matrix (Decision Tree Classifier):\")\n",
    "print(conf_matrix_decision_tree)\n",
    "\n",
    "# Accuracy\n",
    "accuracy_decision_tree = accuracy_score(y_test, y_pred_decision_tree)\n",
    "print(\"\\nAccuracy (Decision Tree Classifier):\", accuracy_decision_tree)\n",
    "\n",
    "# Precision\n",
    "precision_decision_tree = precision_score(y_test, y_pred_decision_tree, average='weighted')\n",
    "print(\"Precision (Decision Tree Classifier):\", precision_decision_tree)\n",
    "\n",
    "# Recall\n",
    "recall_decision_tree = recall_score(y_test, y_pred_decision_tree, average='weighted')\n",
    "print(\"Recall (Decision Tree Classifier):\", recall_decision_tree)\n",
    "\n",
    "# F1 Score\n",
    "f1_decision_tree = f1_score(y_test, y_pred_decision_tree, average='weighted')\n",
    "print(\"F1 Score (Decision Tree Classifier):\", f1_decision_tree)\n",
    "\n",
    "# Print classification report\n",
    "print(\"\\nClassification Report (Decision Tree Classifier):\")\n",
    "print(classification_report(y_test, y_pred_decision_tree))"
   ]
  },
  {
   "cell_type": "markdown",
   "metadata": {
    "id": "rxflNZiwRsL6"
   },
   "source": [
    "<span style=\"font-size: larger;\"><strong>Random Forest</strong></span>"
   ]
  },
  {
   "cell_type": "code",
   "execution_count": 21,
   "metadata": {
    "colab": {
     "base_uri": "https://localhost:8080/"
    },
    "execution": {
     "iopub.execute_input": "2024-08-06T06:14:54.177485Z",
     "iopub.status.busy": "2024-08-06T06:14:54.177053Z",
     "iopub.status.idle": "2024-08-06T06:15:51.101703Z",
     "shell.execute_reply": "2024-08-06T06:15:51.100681Z",
     "shell.execute_reply.started": "2024-08-06T06:14:54.177445Z"
    },
    "id": "XYJCi-9eRsL6",
    "outputId": "82f94a3d-ab3f-4d6f-f88e-4231bb5dfea0"
   },
   "outputs": [
    {
     "name": "stdout",
     "output_type": "stream",
     "text": [
      "Confusion Matrix (Random Forest Classifier):\n",
      "[[    1    31     0     1     1]\n",
      " [    0 28191    36    24     0]\n",
      " [    0  3468    27    20     3]\n",
      " [    0  2309    23    21     0]\n",
      " [    0   253     2     8     2]]\n",
      "\n",
      "Accuracy (Random Forest Classifier): 0.8204874931001424\n",
      "Precision (Random Forest Classifier): 0.7298265279070975\n",
      "Recall (Random Forest Classifier): 0.8204874931001424\n",
      "F1 Score (Random Forest Classifier): 0.7432555347844091\n",
      "\n",
      "Classification Report (Random Forest Classifier):\n",
      "              precision    recall  f1-score   support\n",
      "\n",
      "           0       1.00      0.03      0.06        34\n",
      "           1       0.82      1.00      0.90     28251\n",
      "           2       0.31      0.01      0.01      3518\n",
      "           3       0.28      0.01      0.02      2353\n",
      "           4       0.33      0.01      0.01       265\n",
      "\n",
      "    accuracy                           0.82     34421\n",
      "   macro avg       0.55      0.21      0.20     34421\n",
      "weighted avg       0.73      0.82      0.74     34421\n",
      "\n"
     ]
    }
   ],
   "source": [
    "random_forest_model = RandomForestClassifier()\n",
    "random_forest_model.fit(X_train, y_train)\n",
    "\n",
    "y_pred_random_forest = random_forest_model.predict(X_test)\n",
    "\n",
    "# Confusion Matrix\n",
    "conf_matrix_random_forest = confusion_matrix(y_test, y_pred_random_forest)\n",
    "print(\"Confusion Matrix (Random Forest Classifier):\")\n",
    "print(conf_matrix_random_forest)\n",
    "\n",
    "# Accuracy\n",
    "accuracy_random_forest = accuracy_score(y_test, y_pred_random_forest)\n",
    "print(\"\\nAccuracy (Random Forest Classifier):\", accuracy_random_forest)\n",
    "\n",
    "# Precision\n",
    "precision_random_forest = precision_score(y_test, y_pred_random_forest, average='weighted')\n",
    "print(\"Precision (Random Forest Classifier):\", precision_random_forest)\n",
    "\n",
    "# Recall\n",
    "recall_random_forest = recall_score(y_test, y_pred_random_forest, average='weighted')\n",
    "print(\"Recall (Random Forest Classifier):\", recall_random_forest)\n",
    "\n",
    "# F1 Score\n",
    "f1_random_forest = f1_score(y_test, y_pred_random_forest, average='weighted')\n",
    "print(\"F1 Score (Random Forest Classifier):\", f1_random_forest)\n",
    "\n",
    "# Print classification report\n",
    "print(\"\\nClassification Report (Random Forest Classifier):\")\n",
    "print(classification_report(y_test, y_pred_random_forest))"
   ]
  },
  {
   "cell_type": "markdown",
   "metadata": {
    "id": "DZ-UQvovkkY1"
   },
   "source": [
    "<strong>Support Vector Machine (SVM)</strong>"
   ]
  },
  {
   "cell_type": "code",
   "execution_count": 22,
   "metadata": {
    "colab": {
     "base_uri": "https://localhost:8080/"
    },
    "id": "fYTNK39fRsL7",
    "outputId": "3aabf9a4-df99-460b-b8e4-cd46f09910c6"
   },
   "outputs": [
    {
     "name": "stdout",
     "output_type": "stream",
     "text": [
      "Confusion Matrix (SVM Classifier):\n",
      "[[    0    34     0     0     0]\n",
      " [    0 28251     0     0     0]\n",
      " [    0  3518     0     0     0]\n",
      " [    0  2353     0     0     0]\n",
      " [    0   265     0     0     0]]\n",
      "\n",
      "Accuracy (SVM Classifier): 0.8207489613898492\n",
      "Precision (SVM Classifier): 0.6736288576225162\n",
      "Recall (SVM Classifier): 0.8207489613898492\n",
      "F1 Score (SVM Classifier): 0.73994699094411\n",
      "\n",
      "Classification Report (SVM Classifier):\n",
      "              precision    recall  f1-score   support\n",
      "\n",
      "           0       0.00      0.00      0.00        34\n",
      "           1       0.82      1.00      0.90     28251\n",
      "           2       0.00      0.00      0.00      3518\n",
      "           3       0.00      0.00      0.00      2353\n",
      "           4       0.00      0.00      0.00       265\n",
      "\n",
      "    accuracy                           0.82     34421\n",
      "   macro avg       0.16      0.20      0.18     34421\n",
      "weighted avg       0.67      0.82      0.74     34421\n",
      "\n"
     ]
    },
    {
     "name": "stderr",
     "output_type": "stream",
     "text": [
      "/usr/local/lib/python3.10/dist-packages/sklearn/metrics/_classification.py:1471: UndefinedMetricWarning: Precision is ill-defined and being set to 0.0 in labels with no predicted samples. Use `zero_division` parameter to control this behavior.\n",
      "  _warn_prf(average, modifier, msg_start, len(result))\n",
      "/usr/local/lib/python3.10/dist-packages/sklearn/metrics/_classification.py:1471: UndefinedMetricWarning: Precision and F-score are ill-defined and being set to 0.0 in labels with no predicted samples. Use `zero_division` parameter to control this behavior.\n",
      "  _warn_prf(average, modifier, msg_start, len(result))\n",
      "/usr/local/lib/python3.10/dist-packages/sklearn/metrics/_classification.py:1471: UndefinedMetricWarning: Precision and F-score are ill-defined and being set to 0.0 in labels with no predicted samples. Use `zero_division` parameter to control this behavior.\n",
      "  _warn_prf(average, modifier, msg_start, len(result))\n",
      "/usr/local/lib/python3.10/dist-packages/sklearn/metrics/_classification.py:1471: UndefinedMetricWarning: Precision and F-score are ill-defined and being set to 0.0 in labels with no predicted samples. Use `zero_division` parameter to control this behavior.\n",
      "  _warn_prf(average, modifier, msg_start, len(result))\n"
     ]
    }
   ],
   "source": [
    "svm_model = SVC()\n",
    "svm_model.fit(X_train, y_train)\n",
    "\n",
    "y_pred_svm = svm_model.predict(X_test)\n",
    "\n",
    "# Confusion Matrix\n",
    "conf_matrix_svm = confusion_matrix(y_test, y_pred_svm)\n",
    "print(\"Confusion Matrix (SVM Classifier):\")\n",
    "print(conf_matrix_svm)\n",
    "\n",
    "# Accuracy\n",
    "accuracy_svm = accuracy_score(y_test, y_pred_svm)\n",
    "print(\"\\nAccuracy (SVM Classifier):\", accuracy_svm)\n",
    "\n",
    "# Precision\n",
    "precision_svm = precision_score(y_test, y_pred_svm, average='weighted')\n",
    "print(\"Precision (SVM Classifier):\", precision_svm)\n",
    "\n",
    "# Recall\n",
    "recall_svm = recall_score(y_test, y_pred_svm, average='weighted')\n",
    "print(\"Recall (SVM Classifier):\", recall_svm)\n",
    "\n",
    "# F1 Score\n",
    "f1_svm = f1_score(y_test, y_pred_svm, average='weighted')\n",
    "print(\"F1 Score (SVM Classifier):\", f1_svm)\n",
    "\n",
    "# Print classification report\n",
    "print(\"\\nClassification Report (SVM Classifier):\")\n",
    "print(classification_report(y_test, y_pred_svm))\n"
   ]
  },
  {
   "cell_type": "markdown",
   "metadata": {
    "id": "_4_rVnh2k498"
   },
   "source": [
    "<strong>LightGBM</strong>"
   ]
  },
  {
   "cell_type": "code",
   "execution_count": 29,
   "metadata": {
    "colab": {
     "base_uri": "https://localhost:8080/"
    },
    "id": "I4egnMgNkvBc",
    "outputId": "155ea7df-26ea-491c-cd7c-23a4993acb7f"
   },
   "outputs": [
    {
     "name": "stdout",
     "output_type": "stream",
     "text": [
      "[LightGBM] [Warning] Found whitespace in feature_names, replace with underlines\n",
      "[LightGBM] [Info] Auto-choosing row-wise multi-threading, the overhead of testing was 0.032850 seconds.\n",
      "You can set `force_row_wise=true` to remove the overhead.\n",
      "And if memory is not enough, you can set `force_col_wise=true`.\n",
      "[LightGBM] [Info] Total Bins 1650\n",
      "[LightGBM] [Info] Number of data points in the train set: 137684, number of used features: 25\n",
      "[LightGBM] [Info] Start training from score -7.053593\n",
      "[LightGBM] [Info] Start training from score -0.198158\n",
      "[LightGBM] [Info] Start training from score -2.288479\n",
      "[LightGBM] [Info] Start training from score -2.671882\n",
      "[LightGBM] [Info] Start training from score -4.785199\n",
      "Confusion Matrix (LightGBM Classifier):\n",
      "[[    3    25     1     1     4]\n",
      " [  111 28036    37    39    28]\n",
      " [   21  3433    15    32    17]\n",
      " [   10  2274    21    32    16]\n",
      " [    5   231     6    16     7]]\n",
      "\n",
      "Accuracy (LightGBM Classifier): 0.8161587403038842\n",
      "Precision (LightGBM Classifier): 0.7149607208119397\n",
      "Recall (LightGBM Classifier): 0.8161587403038842\n",
      "F1 Score (LightGBM Classifier): 0.7422670780321724\n",
      "\n",
      "Classification Report (LightGBM Classifier):\n",
      "              precision    recall  f1-score   support\n",
      "\n",
      "           0       0.02      0.09      0.03        34\n",
      "           1       0.82      0.99      0.90     28251\n",
      "           2       0.19      0.00      0.01      3518\n",
      "           3       0.27      0.01      0.03      2353\n",
      "           4       0.10      0.03      0.04       265\n",
      "\n",
      "    accuracy                           0.82     34421\n",
      "   macro avg       0.28      0.22      0.20     34421\n",
      "weighted avg       0.71      0.82      0.74     34421\n",
      "\n"
     ]
    }
   ],
   "source": [
    "#!pip install lightgbm\n",
    "import lightgbm as lgb\n",
    "\n",
    "# Crear el modelo LightGBM\n",
    "lgb_model = lgb.LGBMClassifier()\n",
    "\n",
    "# Entrenar el modelo\n",
    "lgb_model.fit(X_train, y_train)\n",
    "\n",
    "# Realizar predicciones en el conjunto de prueba\n",
    "y_pred_lgb = lgb_model.predict(X_test)\n",
    "\n",
    "# Matriz de confusión\n",
    "conf_matrix_lgb = confusion_matrix(y_test, y_pred_lgb)\n",
    "print(\"Confusion Matrix (LightGBM Classifier):\")\n",
    "print(conf_matrix_lgb)\n",
    "\n",
    "# Precisión\n",
    "accuracy_lgb = accuracy_score(y_test, y_pred_lgb)\n",
    "print(\"\\nAccuracy (LightGBM Classifier):\", accuracy_lgb)\n",
    "\n",
    "# Precisión\n",
    "precision_lgb = precision_score(y_test, y_pred_lgb, average='weighted')\n",
    "print(\"Precision (LightGBM Classifier):\", precision_lgb)\n",
    "\n",
    "# Recuperación\n",
    "recall_lgb = recall_score(y_test, y_pred_lgb, average='weighted')\n",
    "print(\"Recall (LightGBM Classifier):\", recall_lgb)\n",
    "\n",
    "# Puntuación F1\n",
    "f1_lgb = f1_score(y_test, y_pred_lgb, average='weighted')\n",
    "print(\"F1 Score (LightGBM Classifier):\", f1_lgb)\n",
    "\n",
    "# Imprimir informe de clasificación\n",
    "print(\"\\nClassification Report (LightGBM Classifier):\")\n",
    "print(classification_report(y_test, y_pred_lgb))\n"
   ]
  },
  {
   "cell_type": "markdown",
   "metadata": {
    "id": "2SpcHgaulCmQ"
   },
   "source": [
    "<strong>Catboost</strong>"
   ]
  },
  {
   "cell_type": "code",
   "execution_count": 27,
   "metadata": {
    "colab": {
     "base_uri": "https://localhost:8080/"
    },
    "id": "JK89TFaqpZcP",
    "outputId": "1d3b11ca-c7aa-4f22-e2ff-a4a3451e41c0"
   },
   "outputs": [
    {
     "name": "stdout",
     "output_type": "stream",
     "text": [
      "Matriz de Confusión (CatBoost):\n",
      " [[    0    31     0     1     2]\n",
      " [    0 28234    11     2     4]\n",
      " [    0  3486    14    16     2]\n",
      " [    0  2322    11    18     2]\n",
      " [    0   252     4     5     4]]\n",
      "\n",
      "Accuracy (CatBoost): 0.8213009500014526\n",
      "Precision (CatBoost): 0.7423746911657287\n",
      "Recall (CatBoost): 0.8213009500014526\n",
      "F1 Score (CatBoost): 0.7426888217393944\n",
      "\n",
      "Reporte de Clasificación (CatBoost):\n",
      "               precision    recall  f1-score   support\n",
      "\n",
      "           0       0.00      0.00      0.00        34\n",
      "           1       0.82      1.00      0.90     28251\n",
      "           2       0.35      0.00      0.01      3518\n",
      "           3       0.43      0.01      0.02      2353\n",
      "           4       0.29      0.02      0.03       265\n",
      "\n",
      "    accuracy                           0.82     34421\n",
      "   macro avg       0.38      0.21      0.19     34421\n",
      "weighted avg       0.74      0.82      0.74     34421\n",
      "\n"
     ]
    },
    {
     "name": "stderr",
     "output_type": "stream",
     "text": [
      "/usr/local/lib/python3.10/dist-packages/sklearn/metrics/_classification.py:1471: UndefinedMetricWarning: Precision and F-score are ill-defined and being set to 0.0 in labels with no predicted samples. Use `zero_division` parameter to control this behavior.\n",
      "  _warn_prf(average, modifier, msg_start, len(result))\n",
      "/usr/local/lib/python3.10/dist-packages/sklearn/metrics/_classification.py:1471: UndefinedMetricWarning: Precision and F-score are ill-defined and being set to 0.0 in labels with no predicted samples. Use `zero_division` parameter to control this behavior.\n",
      "  _warn_prf(average, modifier, msg_start, len(result))\n",
      "/usr/local/lib/python3.10/dist-packages/sklearn/metrics/_classification.py:1471: UndefinedMetricWarning: Precision and F-score are ill-defined and being set to 0.0 in labels with no predicted samples. Use `zero_division` parameter to control this behavior.\n",
      "  _warn_prf(average, modifier, msg_start, len(result))\n"
     ]
    }
   ],
   "source": [
    "#!pip install catboost\n",
    "\n",
    "from catboost import CatBoostClassifier\n",
    "\n",
    "# Creamos el modelo CatBoost\n",
    "catboost_model = CatBoostClassifier(iterations=100, learning_rate=0.1, depth=6, loss_function='MultiClass', random_seed=42, verbose=False)\n",
    "\n",
    "# Entrenamos el modelo\n",
    "catboost_model.fit(X_train, y_train)\n",
    "\n",
    "# Realizamos predicciones\n",
    "y_pred_catboost = catboost_model.predict(X_test)\n",
    "\n",
    "# --- Evaluación del modelo ---\n",
    "\n",
    "# Matriz de confusión\n",
    "print(\"Matriz de Confusión (CatBoost):\\n\", confusion_matrix(y_test, y_pred_catboost))\n",
    "\n",
    "# Accuracy\n",
    "print(\"\\nAccuracy (CatBoost):\", accuracy_score(y_test, y_pred_catboost))\n",
    "\n",
    "# Precision\n",
    "print(\"Precision (CatBoost):\", precision_score(y_test, y_pred_catboost, average='weighted', zero_division=0))\n",
    "\n",
    "# Recall\n",
    "print(\"Recall (CatBoost):\", recall_score(y_test, y_pred_catboost, average='weighted', zero_division=0))\n",
    "\n",
    "# F1 Score\n",
    "print(\"F1 Score (CatBoost):\", f1_score(y_test, y_pred_catboost, average='weighted', zero_division=0))\n",
    "\n",
    "# Reporte de Clasificación\n",
    "print(\"\\nReporte de Clasificación (CatBoost):\\n\", classification_report(y_test, y_pred_catboost))\n"
   ]
  },
  {
   "cell_type": "markdown",
   "metadata": {
    "id": "ej4oG2vUlHw1"
   },
   "source": [
    "<strong>HistGradientBoostingClassifier</strong>"
   ]
  },
  {
   "cell_type": "code",
   "execution_count": 30,
   "metadata": {
    "colab": {
     "base_uri": "https://localhost:8080/"
    },
    "id": "4AN8mmdFq51P",
    "outputId": "6b1374e7-6b59-4d8d-e9f3-68580730a9b8"
   },
   "outputs": [
    {
     "name": "stdout",
     "output_type": "stream",
     "text": [
      "Matriz de Confusión (HistGradientBoostingClassifier):\n",
      " [[    3    25     0     1     5]\n",
      " [   76 28145     4     2    24]\n",
      " [   11  3475     3     5    24]\n",
      " [    8  2319     1     6    19]\n",
      " [    4   243     3     2    13]]\n",
      "\n",
      "Accuracy (HistGradientBoostingClassifier): 0.8183957467824874\n",
      "Precision (HistGradientBoostingClassifier): 0.7300151834085392\n",
      "Recall (HistGradientBoostingClassifier): 0.8183957467824874\n",
      "F1 Score (HistGradientBoostingClassifier): 0.7408319473013496\n",
      "\n",
      "Reporte de Clasificación (HistGradientBoostingClassifier):\n",
      "               precision    recall  f1-score   support\n",
      "\n",
      "           0       0.03      0.09      0.04        34\n",
      "           1       0.82      1.00      0.90     28251\n",
      "           2       0.27      0.00      0.00      3518\n",
      "           3       0.38      0.00      0.01      2353\n",
      "           4       0.15      0.05      0.07       265\n",
      "\n",
      "    accuracy                           0.82     34421\n",
      "   macro avg       0.33      0.23      0.21     34421\n",
      "weighted avg       0.73      0.82      0.74     34421\n",
      "\n"
     ]
    }
   ],
   "source": [
    "from sklearn.ensemble import HistGradientBoostingClassifier\n",
    "\n",
    "# Creamos el modelo HistGradientBoostingClassifier\n",
    "hist_gb_model = HistGradientBoostingClassifier(random_state=42)\n",
    "\n",
    "# Entrenamos el modelo\n",
    "hist_gb_model.fit(X_train, y_train)\n",
    "\n",
    "# Realizamos predicciones\n",
    "y_pred_hist_gb = hist_gb_model.predict(X_test)\n",
    "\n",
    "# --- Evaluación del modelo ---\n",
    "\n",
    "# Matriz de confusión\n",
    "print(\"Matriz de Confusión (HistGradientBoostingClassifier):\\n\", confusion_matrix(y_test, y_pred_hist_gb))\n",
    "\n",
    "# Accuracy\n",
    "print(\"\\nAccuracy (HistGradientBoostingClassifier):\", accuracy_score(y_test, y_pred_hist_gb))\n",
    "\n",
    "# Precision\n",
    "print(\"Precision (HistGradientBoostingClassifier):\", precision_score(y_test, y_pred_hist_gb, average='weighted'))\n",
    "\n",
    "# Recall\n",
    "print(\"Recall (HistGradientBoostingClassifier):\", recall_score(y_test, y_pred_hist_gb, average='weighted'))\n",
    "\n",
    "# F1 Score\n",
    "print(\"F1 Score (HistGradientBoostingClassifier):\", f1_score(y_test, y_pred_hist_gb, average='weighted'))\n",
    "\n",
    "# Reporte de Clasificación\n",
    "print(\"\\nReporte de Clasificación (HistGradientBoostingClassifier):\\n\", classification_report(y_test, y_pred_hist_gb))\n"
   ]
  },
  {
   "cell_type": "markdown",
   "metadata": {
    "id": "Au8jDp4KllNC"
   },
   "source": [
    "## Conclusiones del análisis y modelado de la severidad de accidentes:\n",
    "\n",
    "- Los modelos XGBoost, LightGBM, CatBoost e HistGradientBoostingClassifier presentan un accuracy superior al 80%, pero con precision, recall y f1-score significativamente más bajos para las clases minoritarias (FATAL INJURY, SUSPECTED SERIOUS INJURY).\n",
    "- Los modelos Extra Trees Classifier, Decision Tree y Random Forest tienen una precisión ligeramente inferior y el mismo problema con las clases minoritarias.\n",
    "- El modelo SVM presenta una precision, recall y f1-score muy bajos para todas las clases excepto para la clase mayoritaria \"NO APPARENT INJURY\".\n",
    "- El desequilibrio de clases en el conjunto de datos afecta significativamente el rendimiento de los modelos, especialmente en la predicción de las clases minoritarias."
   ]
  }
 ],
 "metadata": {
  "colab": {
   "provenance": []
  },
  "kaggle": {
   "accelerator": "none",
   "dataSources": [
    {
     "datasetId": 5348304,
     "sourceId": 8893731,
     "sourceType": "datasetVersion"
    }
   ],
   "dockerImageVersionId": 30746,
   "isGpuEnabled": false,
   "isInternetEnabled": true,
   "language": "python",
   "sourceType": "notebook"
  },
  "kernelspec": {
   "display_name": "Python 3 (ipykernel)",
   "language": "python",
   "name": "python3"
  },
  "language_info": {
   "codemirror_mode": {
    "name": "ipython",
    "version": 3
   },
   "file_extension": ".py",
   "mimetype": "text/x-python",
   "name": "python",
   "nbconvert_exporter": "python",
   "pygments_lexer": "ipython3",
   "version": "3.12.4"
  }
 },
 "nbformat": 4,
 "nbformat_minor": 4
}
